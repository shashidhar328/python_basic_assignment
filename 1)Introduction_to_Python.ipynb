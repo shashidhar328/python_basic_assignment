{
  "nbformat": 4,
  "nbformat_minor": 0,
  "metadata": {
    "kernelspec": {
      "display_name": "Python 3",
      "language": "python",
      "name": "python3"
    },
    "language_info": {
      "codemirror_mode": {
        "name": "ipython",
        "version": 3
      },
      "file_extension": ".py",
      "mimetype": "text/x-python",
      "name": "python",
      "nbconvert_exporter": "python",
      "pygments_lexer": "ipython3",
      "version": "3.8.3"
    },
    "colab": {
      "provenance": []
    }
  },
  "cells": [
    {
      "cell_type": "markdown",
      "metadata": {
        "id": "nKOL_gO79Bry"
      },
      "source": [
        "### Vairable Declaration"
      ]
    },
    {
      "cell_type": "code",
      "metadata": {
        "id": "Fk9nOZqK9Br0",
        "outputId": "452516d7-e573-4eba-91f7-6ffbc518acbd"
      },
      "source": [
        "var1 = 10\n",
        "var2 = 12\n",
        "var3 = var1 + var2\n",
        "print(var3)"
      ],
      "execution_count": null,
      "outputs": [
        {
          "output_type": "stream",
          "text": [
            "22\n"
          ],
          "name": "stdout"
        }
      ]
    },
    {
      "cell_type": "code",
      "metadata": {
        "id": "cdqadcg39Br6",
        "outputId": "4da2c4ce-08ff-4729-f2e9-7f4e93725782"
      },
      "source": [
        "type(var3)"
      ],
      "execution_count": null,
      "outputs": [
        {
          "output_type": "execute_result",
          "data": {
            "text/plain": [
              "int"
            ]
          },
          "metadata": {
            "tags": []
          },
          "execution_count": 2
        }
      ]
    },
    {
      "cell_type": "code",
      "metadata": {
        "id": "Upv8WMlZ9Br-",
        "outputId": "b3ccb6c4-054b-4038-c021-640617841359"
      },
      "source": [
        "var1 = 10\n",
        "var2 = 12.2\n",
        "var3 = var1 + var2\n",
        "print(var3)"
      ],
      "execution_count": null,
      "outputs": [
        {
          "output_type": "stream",
          "text": [
            "22.2\n"
          ],
          "name": "stdout"
        }
      ]
    },
    {
      "cell_type": "code",
      "metadata": {
        "id": "J7d-GFcJ9BsE",
        "outputId": "281c2456-d2fd-448f-bc86-6c40e7bc87ef"
      },
      "source": [
        "type(var3)"
      ],
      "execution_count": null,
      "outputs": [
        {
          "output_type": "execute_result",
          "data": {
            "text/plain": [
              "float"
            ]
          },
          "metadata": {
            "tags": []
          },
          "execution_count": 4
        }
      ]
    },
    {
      "cell_type": "markdown",
      "metadata": {
        "id": "uaSX_O2F9BsH"
      },
      "source": [
        "### Python can be used as Calculator"
      ]
    },
    {
      "cell_type": "markdown",
      "metadata": {
        "id": "l1-XOVmD9BsI"
      },
      "source": [
        "* **Numbers** - operators +, -, * and /, parentheses (()) can be used for grouping"
      ]
    },
    {
      "cell_type": "code",
      "metadata": {
        "id": "h-KtDaUg9BsI",
        "outputId": "727c05ba-b9a0-49e0-d8bc-4eaa0e1aff76"
      },
      "source": [
        "3+6"
      ],
      "execution_count": null,
      "outputs": [
        {
          "output_type": "execute_result",
          "data": {
            "text/plain": [
              "9"
            ]
          },
          "metadata": {
            "tags": []
          },
          "execution_count": 5
        }
      ]
    },
    {
      "cell_type": "code",
      "metadata": {
        "id": "zIrXE0Bz9BsM",
        "outputId": "411ba4c5-9cd1-4b50-bcac-583da9261e27"
      },
      "source": [
        "(50 - 5*6) / 4"
      ],
      "execution_count": null,
      "outputs": [
        {
          "output_type": "execute_result",
          "data": {
            "text/plain": [
              "5.0"
            ]
          },
          "metadata": {
            "tags": []
          },
          "execution_count": 6
        }
      ]
    },
    {
      "cell_type": "markdown",
      "metadata": {
        "id": "00ePOabV9BsR"
      },
      "source": [
        "* Division (/) always returns a float. To do floor division and get an integer result (discarding any fractional result) you can use the // operator"
      ]
    },
    {
      "cell_type": "code",
      "metadata": {
        "id": "REPGURsO9BsS",
        "outputId": "f6e181b0-387a-44f8-b669-39f1f953e86b"
      },
      "source": [
        "17 / 3"
      ],
      "execution_count": null,
      "outputs": [
        {
          "output_type": "execute_result",
          "data": {
            "text/plain": [
              "5.666666666666667"
            ]
          },
          "metadata": {
            "tags": []
          },
          "execution_count": 7
        }
      ]
    },
    {
      "cell_type": "code",
      "metadata": {
        "id": "X4x4g02j9BsV",
        "outputId": "21203a89-98a2-45cc-b73a-89f9b7ff6f9e"
      },
      "source": [
        "17 // 3"
      ],
      "execution_count": null,
      "outputs": [
        {
          "output_type": "execute_result",
          "data": {
            "text/plain": [
              "5"
            ]
          },
          "metadata": {
            "tags": []
          },
          "execution_count": 8
        }
      ]
    },
    {
      "cell_type": "markdown",
      "metadata": {
        "id": "QtOCftG19Bsc"
      },
      "source": [
        "* To calculate the remainder you can use MOD (%) operator"
      ]
    },
    {
      "cell_type": "code",
      "metadata": {
        "id": "GQhQZNlc9Bsd",
        "outputId": "020d04af-8a29-4054-ca0f-eebce139d5fe"
      },
      "source": [
        "17 % 3"
      ],
      "execution_count": null,
      "outputs": [
        {
          "output_type": "execute_result",
          "data": {
            "text/plain": [
              "2"
            ]
          },
          "metadata": {
            "tags": []
          },
          "execution_count": 9
        }
      ]
    },
    {
      "cell_type": "markdown",
      "metadata": {
        "id": "cpWq3ryO9Bsg"
      },
      "source": [
        "**Strings** - Python can also manipulate strings, which can be expressed in several ways. They can be enclosed in single quotes ('...') or double quotes (\"...\") with the same result. The character '\\' can be used to escape single/double quotes"
      ]
    },
    {
      "cell_type": "code",
      "metadata": {
        "id": "GsZGLT0v9Bsh",
        "outputId": "7feb3ea6-938d-4c6b-d0a9-922f655bf01e"
      },
      "source": [
        "'sam\\'s eggs'"
      ],
      "execution_count": null,
      "outputs": [
        {
          "output_type": "execute_result",
          "data": {
            "text/plain": [
              "\"sam's eggs\""
            ]
          },
          "metadata": {
            "tags": []
          },
          "execution_count": 35
        }
      ]
    },
    {
      "cell_type": "code",
      "metadata": {
        "id": "_K2iHnM09Bsk"
      },
      "source": [
        "s = 'First line.\\tSecond line.'"
      ],
      "execution_count": null,
      "outputs": []
    },
    {
      "cell_type": "code",
      "metadata": {
        "id": "Rl8_AUT09Bsp",
        "outputId": "9546f085-c8ec-4094-bde1-a30c4c6a4bd4"
      },
      "source": [
        "s"
      ],
      "execution_count": null,
      "outputs": [
        {
          "output_type": "execute_result",
          "data": {
            "text/plain": [
              "'First line.\\tSecond line.'"
            ]
          },
          "metadata": {
            "tags": []
          },
          "execution_count": 41
        }
      ]
    },
    {
      "cell_type": "code",
      "metadata": {
        "id": "rRa-juV89Bsz",
        "outputId": "a2f95a94-9a2d-4e38-9026-0ec0bdf50c74"
      },
      "source": [
        "print(s)"
      ],
      "execution_count": null,
      "outputs": [
        {
          "output_type": "stream",
          "text": [
            "First line.\tSecond line.\n"
          ],
          "name": "stdout"
        }
      ]
    },
    {
      "cell_type": "code",
      "metadata": {
        "id": "KHWzaWKy9Bs4",
        "outputId": "76b124d3-4e1b-442e-aa39-771e85f52d57"
      },
      "source": [
        "print( 'First line.\\nSecond line.')"
      ],
      "execution_count": null,
      "outputs": [
        {
          "output_type": "stream",
          "text": [
            "First line.\n",
            "Second line.\n"
          ],
          "name": "stdout"
        }
      ]
    },
    {
      "cell_type": "markdown",
      "metadata": {
        "id": "UBnFsecZ9Bs7"
      },
      "source": [
        "* Strings can be concatenated (glued together) with the + operator, and repeated with *"
      ]
    },
    {
      "cell_type": "code",
      "metadata": {
        "id": "JQcbw48U9Bs8",
        "outputId": "7f09a1e9-5081-4f21-f425-4ac8e3e17356"
      },
      "source": [
        "5*'un' + 'ited'"
      ],
      "execution_count": null,
      "outputs": [
        {
          "output_type": "execute_result",
          "data": {
            "text/plain": [
              "'unununununited'"
            ]
          },
          "metadata": {
            "tags": []
          },
          "execution_count": 45
        }
      ]
    },
    {
      "cell_type": "markdown",
      "metadata": {
        "id": "EVdgAbZu9Bs_"
      },
      "source": [
        "* Two or more string literals (i.e. the ones enclosed between quotes) next to each other are automatically concatenated."
      ]
    },
    {
      "cell_type": "code",
      "metadata": {
        "id": "4QszbCyQ9BtA",
        "outputId": "60364700-7808-4370-9eeb-8ff83bf6107e"
      },
      "source": [
        "a = 'Py'       'thon'\n",
        "print(a)"
      ],
      "execution_count": null,
      "outputs": [
        {
          "output_type": "stream",
          "text": [
            "Python\n"
          ],
          "name": "stdout"
        }
      ]
    },
    {
      "cell_type": "markdown",
      "metadata": {
        "id": "EZjWjbnr9BtF"
      },
      "source": [
        "* **Strings can be indexed** (subscripted), with the first character having index 0."
      ]
    },
    {
      "cell_type": "code",
      "metadata": {
        "id": "Su7Q4th_9BtG"
      },
      "source": [
        "word = 'Python'"
      ],
      "execution_count": null,
      "outputs": []
    },
    {
      "cell_type": "code",
      "metadata": {
        "id": "-0eIQX2O9BtL",
        "outputId": "fc9e1d55-f0a0-48bf-ceef-506c66e21a53"
      },
      "source": [
        "print(word)"
      ],
      "execution_count": null,
      "outputs": [
        {
          "output_type": "stream",
          "text": [
            "Python\n"
          ],
          "name": "stdout"
        }
      ]
    },
    {
      "cell_type": "code",
      "metadata": {
        "id": "9dkMKCh99BtO",
        "outputId": "79699aa7-d13d-4bfc-d450-237629d5e5bc"
      },
      "source": [
        "print(word[0])"
      ],
      "execution_count": null,
      "outputs": [
        {
          "output_type": "stream",
          "text": [
            "P\n"
          ],
          "name": "stdout"
        }
      ]
    },
    {
      "cell_type": "code",
      "metadata": {
        "id": "LjjUIbVB9BtQ",
        "outputId": "53c01a0e-4913-425b-93ab-a2916d271792"
      },
      "source": [
        "print(word[5])"
      ],
      "execution_count": null,
      "outputs": [
        {
          "output_type": "stream",
          "text": [
            "n\n"
          ],
          "name": "stdout"
        }
      ]
    },
    {
      "cell_type": "markdown",
      "metadata": {
        "id": "OSoY-puv9BtT"
      },
      "source": [
        "* Indices may also be **negative numbers**, to start counting from the right"
      ]
    },
    {
      "cell_type": "code",
      "metadata": {
        "id": "tRc4KWix9BtU",
        "outputId": "f1ba53ce-dd54-41eb-8d7d-eada04e1a40d"
      },
      "source": [
        "word[-1]"
      ],
      "execution_count": null,
      "outputs": [
        {
          "output_type": "execute_result",
          "data": {
            "text/plain": [
              "'n'"
            ]
          },
          "metadata": {
            "tags": []
          },
          "execution_count": 20
        }
      ]
    },
    {
      "cell_type": "code",
      "metadata": {
        "id": "1OlnDLUR9BtX",
        "outputId": "d1fe24de-e4cf-4e52-9942-5943f30e57f6",
        "colab": {
          "base_uri": "https://localhost:8080/",
          "height": 36
        }
      },
      "source": [
        "word[-6]"
      ],
      "execution_count": 19,
      "outputs": [
        {
          "output_type": "execute_result",
          "data": {
            "text/plain": [
              "'P'"
            ],
            "application/vnd.google.colaboratory.intrinsic+json": {
              "type": "string"
            }
          },
          "metadata": {},
          "execution_count": 19
        }
      ]
    },
    {
      "cell_type": "markdown",
      "metadata": {
        "id": "rziH7HT59Btc"
      },
      "source": [
        "* **String Slicing** : While indexing is used to obtain individual characters, **slicing** allows you to obtain substring"
      ]
    },
    {
      "cell_type": "code",
      "metadata": {
        "id": "80RK6tDI9Btd",
        "outputId": "d6381c57-9204-4692-a73c-3f17f19f8518",
        "colab": {
          "base_uri": "https://localhost:8080/",
          "height": 36
        }
      },
      "source": [
        "word"
      ],
      "execution_count": 18,
      "outputs": [
        {
          "output_type": "execute_result",
          "data": {
            "text/plain": [
              "'Python'"
            ],
            "application/vnd.google.colaboratory.intrinsic+json": {
              "type": "string"
            }
          },
          "metadata": {},
          "execution_count": 18
        }
      ]
    },
    {
      "cell_type": "code",
      "metadata": {
        "id": "RfUZ7Mni9Btl",
        "outputId": "3bacc948-e791-4a2b-8a98-98a11c42b3a2",
        "colab": {
          "base_uri": "https://localhost:8080/",
          "height": 36
        }
      },
      "source": [
        "word[2:4]"
      ],
      "execution_count": 15,
      "outputs": [
        {
          "output_type": "execute_result",
          "data": {
            "text/plain": [
              "'th'"
            ],
            "application/vnd.google.colaboratory.intrinsic+json": {
              "type": "string"
            }
          },
          "metadata": {},
          "execution_count": 15
        }
      ]
    },
    {
      "cell_type": "code",
      "metadata": {
        "id": "aXouHz_a9Btp",
        "outputId": "ff442aa0-9ab3-45be-a791-6eeec3bc41d1",
        "colab": {
          "base_uri": "https://localhost:8080/",
          "height": 36
        }
      },
      "source": [
        "word[ :4]"
      ],
      "execution_count": 17,
      "outputs": [
        {
          "output_type": "execute_result",
          "data": {
            "text/plain": [
              "'Pyth'"
            ],
            "application/vnd.google.colaboratory.intrinsic+json": {
              "type": "string"
            }
          },
          "metadata": {},
          "execution_count": 17
        }
      ]
    },
    {
      "cell_type": "code",
      "metadata": {
        "id": "VrrGmA-n9Btt",
        "outputId": "3e0a5c31-e396-42c5-8a64-ab2ce937435b",
        "colab": {
          "base_uri": "https://localhost:8080/",
          "height": 36
        }
      },
      "source": [
        "word[ 2: ]"
      ],
      "execution_count": 13,
      "outputs": [
        {
          "output_type": "execute_result",
          "data": {
            "text/plain": [
              "'thon'"
            ],
            "application/vnd.google.colaboratory.intrinsic+json": {
              "type": "string"
            }
          },
          "metadata": {},
          "execution_count": 13
        }
      ]
    },
    {
      "cell_type": "markdown",
      "metadata": {
        "id": "waeljvvZ9Btz"
      },
      "source": [
        "* Note how the start is always included, and the end always excluded.\n",
        "* This makes sure that s[:i] + s[i:] is always equal to s"
      ]
    },
    {
      "cell_type": "code",
      "metadata": {
        "id": "Gjn8_ZFB9Bt0",
        "outputId": "77beccdb-89f5-4fb5-c41a-e9639ac4f850",
        "colab": {
          "base_uri": "https://localhost:8080/",
          "height": 36
        }
      },
      "source": [
        "word[ :4] + word[4: ]"
      ],
      "execution_count": 12,
      "outputs": [
        {
          "output_type": "execute_result",
          "data": {
            "text/plain": [
              "'Python'"
            ],
            "application/vnd.google.colaboratory.intrinsic+json": {
              "type": "string"
            }
          },
          "metadata": {},
          "execution_count": 12
        }
      ]
    },
    {
      "cell_type": "code",
      "metadata": {
        "id": "5AgxvYA89Bt3",
        "outputId": "afa04814-c4ef-45f2-f67f-8768524e8aab",
        "colab": {
          "base_uri": "https://localhost:8080/",
          "height": 36
        }
      },
      "source": [
        "word[0:6 : 2]"
      ],
      "execution_count": 11,
      "outputs": [
        {
          "output_type": "execute_result",
          "data": {
            "text/plain": [
              "'Pto'"
            ],
            "application/vnd.google.colaboratory.intrinsic+json": {
              "type": "string"
            }
          },
          "metadata": {},
          "execution_count": 11
        }
      ]
    },
    {
      "cell_type": "code",
      "metadata": {
        "id": "mjsSTayq9Bt-",
        "outputId": "0e64fc88-88ed-40ae-d38f-e7c18d4e24f2",
        "colab": {
          "base_uri": "https://localhost:8080/",
          "height": 36
        }
      },
      "source": [
        "word[ : : -1]"
      ],
      "execution_count": 10,
      "outputs": [
        {
          "output_type": "execute_result",
          "data": {
            "text/plain": [
              "'nohtyP'"
            ],
            "application/vnd.google.colaboratory.intrinsic+json": {
              "type": "string"
            }
          },
          "metadata": {},
          "execution_count": 10
        }
      ]
    },
    {
      "cell_type": "markdown",
      "metadata": {
        "id": "c2ldUesv9BuD"
      },
      "source": [
        "* **String Slice/Index** - \"string index out of range\" error"
      ]
    },
    {
      "cell_type": "code",
      "metadata": {
        "id": "4DzTbYkG9BuI",
        "outputId": "9f130b38-83f5-4296-8fb3-907c993313fb",
        "colab": {
          "base_uri": "https://localhost:8080/",
          "height": 36
        }
      },
      "source": [
        "word[20:21]"
      ],
      "execution_count": 8,
      "outputs": [
        {
          "output_type": "execute_result",
          "data": {
            "text/plain": [
              "''"
            ],
            "application/vnd.google.colaboratory.intrinsic+json": {
              "type": "string"
            }
          },
          "metadata": {},
          "execution_count": 8
        }
      ]
    },
    {
      "cell_type": "code",
      "metadata": {
        "id": "OCmXuw2O9BuL",
        "outputId": "9fde9e7f-0ba6-4176-b1d4-d0bdae2ec321",
        "colab": {
          "base_uri": "https://localhost:8080/",
          "height": 36
        }
      },
      "source": [
        "word[:]"
      ],
      "execution_count": 7,
      "outputs": [
        {
          "output_type": "execute_result",
          "data": {
            "text/plain": [
              "'Python'"
            ],
            "application/vnd.google.colaboratory.intrinsic+json": {
              "type": "string"
            }
          },
          "metadata": {},
          "execution_count": 7
        }
      ]
    },
    {
      "cell_type": "code",
      "metadata": {
        "id": "d155BfEy9BuO",
        "outputId": "fb21ba40-f1c9-4bc2-bfe0-87757e1ec353",
        "colab": {
          "base_uri": "https://localhost:8080/",
          "height": 36
        }
      },
      "source": [
        "word[40:]"
      ],
      "execution_count": 6,
      "outputs": [
        {
          "output_type": "execute_result",
          "data": {
            "text/plain": [
              "''"
            ],
            "application/vnd.google.colaboratory.intrinsic+json": {
              "type": "string"
            }
          },
          "metadata": {},
          "execution_count": 6
        }
      ]
    },
    {
      "cell_type": "code",
      "metadata": {
        "id": "fJl0V1Vh9BuS",
        "outputId": "74b014ad-16ff-403d-9c33-6c716c65b7da",
        "colab": {
          "base_uri": "https://localhost:8080/",
          "height": 36
        }
      },
      "source": [
        "'J'+word[1:]"
      ],
      "execution_count": 5,
      "outputs": [
        {
          "output_type": "execute_result",
          "data": {
            "text/plain": [
              "'Jython'"
            ],
            "application/vnd.google.colaboratory.intrinsic+json": {
              "type": "string"
            }
          },
          "metadata": {},
          "execution_count": 5
        }
      ]
    },
    {
      "cell_type": "code",
      "metadata": {
        "id": "5hNCd8Lb9BuY",
        "outputId": "c46c9ac7-4994-4aaf-d0ae-06c1b05b5188",
        "colab": {
          "base_uri": "https://localhost:8080/"
        }
      },
      "source": [
        "word = 'Python'\n",
        "len(word)"
      ],
      "execution_count": 4,
      "outputs": [
        {
          "output_type": "execute_result",
          "data": {
            "text/plain": [
              "6"
            ]
          },
          "metadata": {},
          "execution_count": 4
        }
      ]
    },
    {
      "cell_type": "code",
      "metadata": {
        "id": "3lM-WHzx9Buc",
        "outputId": "aa9fba4f-ea15-4668-ae9d-ce33763b76b1",
        "colab": {
          "base_uri": "https://localhost:8080/"
        }
      },
      "source": [
        "len('Anaconda')"
      ],
      "execution_count": 2,
      "outputs": [
        {
          "output_type": "execute_result",
          "data": {
            "text/plain": [
              "8"
            ]
          },
          "metadata": {},
          "execution_count": 2
        }
      ]
    },
    {
      "cell_type": "code",
      "metadata": {
        "id": "0aVMs3iT9Buh"
      },
      "source": [],
      "execution_count": null,
      "outputs": []
    }
  ]
}