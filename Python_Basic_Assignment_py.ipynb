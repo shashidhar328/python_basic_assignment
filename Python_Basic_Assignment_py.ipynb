{
  "cells": [
    {
      "cell_type": "code",
      "execution_count": 3,
      "metadata": {
        "colab": {
          "base_uri": "https://localhost:8080/"
        },
        "id": "Ss6ZCPbQywQa",
        "outputId": "0805adad-6050-407b-fcca-7f2cff355810"
      },
      "outputs": [
        {
          "output_type": "stream",
          "name": "stdout",
          "text": [
            "1: Variables and Data Types\n",
            "Enter your name: suvin sai\n",
            "Enter your age: 23\n",
            "Enter your favorite number: 24\n",
            "Hello, suvin sai!\n",
            "You will turn 100 years old in the year 2102.\n",
            "Your favorite number doubled is 48.0.\n",
            "\n"
          ]
        }
      ],
      "source": [
        "print(\"1: Variables and Data Types\")\n",
        "Name = input(\"Enter your name: \")\n",
        "Age = int(input(\"Enter your age: \"))\n",
        "Fav_Number = float(input(\"Enter your favorite number: \"))\n",
        "\n",
        "print(f\"Hello, {Name}!\")\n",
        "year_in_100 = 2025 + (100 - Age)\n",
        "print(f\"You will turn 100 years old in the year {year_in_100}.\")\n",
        "print(f\"Favorite number doubled is {Fav_Number * 2}.\\n\")"
      ]
    },
    {
      "cell_type": "code",
      "execution_count": 4,
      "metadata": {
        "colab": {
          "base_uri": "https://localhost:8080/"
        },
        "id": "vhxUfajXzJPJ",
        "outputId": "7ba47e82-007b-4efe-efe2-261e117819e4"
      },
      "outputs": [
        {
          "output_type": "stream",
          "name": "stdout",
          "text": [
            "Task 2: Conditional Statements\n",
            "Enter a number: 23\n",
            "The number is Odd.\n",
            "The number is Positive.\n"
          ]
        }
      ],
      "source": [
        "print(\"2: Conditional Statements\")\n",
        "num = float(input(\"Enter a number: \"))\n",
        "if num % 2 == 0:\n",
        "    print(\"The number is Even.\")\n",
        "elif num % 2 == 1:\n",
        "    print(\"The number is Odd.\")\n",
        "else:\n",
        "    print(\"The number is not an integer, so neither even nor odd.\")\n",
        "if num > 0:\n",
        "    print(\"The number is Positive.\")\n",
        "elif num < 0:\n",
        "    print(\"The number is Negative.\")\n",
        "else:\n",
        "    print(\"The number is Zero.\\n\")"
      ]
    },
    {
      "cell_type": "code",
      "execution_count": 6,
      "metadata": {
        "colab": {
          "base_uri": "https://localhost:8080/"
        },
        "id": "OBZvpbGVzi1d",
        "outputId": "bae91ccd-36fd-4569-b296-40228d69679a"
      },
      "outputs": [
        {
          "output_type": "stream",
          "name": "stdout",
          "text": [
            "Task 3: Loops\n",
            "Even numbers from 1 to 50 using a for loop:\n",
            "2 4 6 8 10 12 14 16 18 20 22 24 26 28 30 32 34 36 38 40 42 44 46 48 50 \n",
            "Even numbers from 1 to 50 using a while loop:\n",
            "2 4 6 8 10 12 14 16 18 20 22 24 26 28 30 32 34 36 38 40 42 44 46 48 50 \n",
            "\n"
          ]
        }
      ],
      "source": [
        "print(\"3: Loops\")\n",
        "print(\"Even numbers from 1 to 50 using a for loop:\")\n",
        "for i in range(2, 51, 2):\n",
        "    print(i, end=' ')\n",
        "print(\"\\nEven numbers from 1 to 50 using a while loop:\")\n",
        "i = 2\n",
        "while i <= 50:\n",
        "    print(i, end=' ')\n",
        "    i += 2\n",
        "print(\"\\n\")"
      ]
    },
    {
      "cell_type": "code",
      "execution_count": 7,
      "metadata": {
        "colab": {
          "base_uri": "https://localhost:8080/"
        },
        "id": "x4qpgbZv5uhA",
        "outputId": "10bab286-1f51-40a2-d98a-e5c5765e623f"
      },
      "outputs": [
        {
          "output_type": "stream",
          "name": "stdout",
          "text": [
            "Task 4: Lists and Dictionaries\n",
            "Enter favorite food 1: samosa\n",
            "Enter favorite food 2: panipuri\n",
            "Enter favorite food 3: puri\n",
            "Enter favorite food 4: dosa\n",
            "Enter favorite food 5: ugani\n",
            "Your favorite foods are: ['samosa', 'panipuri', 'puri', 'dosa', 'ugani']\n",
            "Food lengths dictionary: {'samosa': 6, 'panipuri': 8, 'puri': 4, 'dosa': 4, 'ugani': 5}\n",
            "\n"
          ]
        }
      ],
      "source": [
        "print(\"4: Lists and Dictionaries\")\n",
        "foods = []\n",
        "for i in range(5):\n",
        "    food = input(f\"Enter favorite food {i+1}: \")\n",
        "    foods.append(food)\n",
        "\n",
        "print(\"Your favorite foods are:\", foods)\n",
        "food_lengths = {food: len(food) for food in foods}\n",
        "print(\"Food lengths dictionary:\", food_lengths)\n",
        "print()"
      ]
    },
    {
      "cell_type": "code",
      "execution_count": 8,
      "metadata": {
        "colab": {
          "base_uri": "https://localhost:8080/"
        },
        "id": "l586nQgy598V",
        "outputId": "ba9ad5ce-c04e-4364-e790-0e4626fdbef5"
      },
      "outputs": [
        {
          "output_type": "stream",
          "name": "stdout",
          "text": [
            "5: Functions\n",
            "Area of rectangle (4 x 7): 28\n",
            "Area of triangle (base = 6, height = 8): 24.0\n",
            "\n"
          ]
        }
      ],
      "source": [
        "print(\"5: Functions\")\n",
        "def calculate_area(shape, dimension1, dimension2=None):\n",
        "    if shape.lower() == 'circle':\n",
        "        return 3.14159 * (dimension1 ** 2)\n",
        "    elif shape.lower() == 'rectangle':\n",
        "        return dimension1 * dimension2\n",
        "    elif shape.lower() == 'triangle':\n",
        "        return 0.5 * dimension1 * dimension2\n",
        "    else:\n",
        "        return \"Unknown shape\"\n",
        "        print(\"Area of circle (radius = 5):\", calculate_area('circle', 5))\n",
        "print(\"Area of rectangle (4 x 7):\", calculate_area('rectangle', 4, 7))\n",
        "print(\"Area of triangle (base = 6, height = 8):\", calculate_area('triangle', 6, 8))\n",
        "print()"
      ]
    },
    {
      "cell_type": "code",
      "execution_count": 9,
      "metadata": {
        "colab": {
          "base_uri": "https://localhost:8080/"
        },
        "id": "NOSxhVy-6arF",
        "outputId": "cb469c1d-8bc1-4e79-fa9d-a6a37fd2c077"
      },
      "outputs": [
        {
          "output_type": "stream",
          "name": "stdout",
          "text": [
            "6: String Manipulation\n",
            "Enter a sentence: my name is suvin sai\n",
            "Number of vowels: 7\n",
            "Reversed sentence: ias nivus si eman ym\n",
            "Uppercase sentence: MY NAME IS SUVIN SAI\n",
            "\n"
          ]
        }
      ],
      "source": [
        "print(\"6: String Manipulation\")\n",
        "sentence = input(\"Enter a sentence: \")\n",
        "vowels = \"aeiouAEIOU\"\n",
        "vowel_count = sum(1 for char in sentence if char in vowels)\n",
        "print(\"Number of vowels:\", vowel_count)\n",
        "reversed_sentence = sentence[::-1]\n",
        "print(\"Reversed sentence:\", reversed_sentence)\n",
        "print(\"Uppercase sentence:\", sentence.upper())\n",
        "print()"
      ]
    },
    {
      "cell_type": "code",
      "execution_count": 10,
      "metadata": {
        "colab": {
          "base_uri": "https://localhost:8080/"
        },
        "id": "dPiHv3WF6qDU",
        "outputId": "ebbcf23b-9805-4ba5-879b-ec5d3da22138"
      },
      "outputs": [
        {
          "output_type": "stream",
          "name": "stdout",
          "text": [
            "7: File Handling\n",
            "Contents of data.txt:\n",
            "Hello, Python!\n",
            "Learning file handling.\n",
            "Python is fun!\n",
            "\n"
          ]
        }
      ],
      "source": [
        "print(\"7: File Handling\")\n",
        "file_name = \"data.txt\"\n",
        "with open(file_name, \"w\") as file:\n",
        "    file.write(\"Hello, Python!\\n\")\n",
        "    file.write(\"Learning file handling.\\n\")\n",
        "    file.write(\"Python is fun!\\n\")\n",
        "print(f\"Contents of {file_name}:\")\n",
        "with open(file_name, \"r\") as file:\n",
        "    contents = file.read()\n",
        "    print(contents)"
      ]
    },
    {
      "cell_type": "code",
      "execution_count": 11,
      "metadata": {
        "colab": {
          "base_uri": "https://localhost:8080/"
        },
        "id": "5Mkr1fcK66Qh",
        "outputId": "0ff7c19a-0664-4fa7-b439-eb4b4326b0ec"
      },
      "outputs": [
        {
          "output_type": "stream",
          "name": "stdout",
          "text": [
            "8: Error Handling\n",
            "Enter the first number: 34\n",
            "Enter the second number: 45\n",
            "The result of division is: 0.7555555555555555\n"
          ]
        }
      ],
      "source": [
        "print(\"8: Error Handling\")\n",
        "try:\n",
        "    num1 = float(input(\"Enter the first number: \"))\n",
        "    num2 = float(input(\"Enter the second number: \"))\n",
        "    result = num1 / num2\n",
        "    print(f\"The result of division is: {result}\")\n",
        "except ZeroDivisionError:\n",
        "    print(\"Error: Division by zero is not allowed.\")\n",
        "except ValueError:\n",
        "    print(\"Error: Invalid input. Please enter numeric values.\")"
      ]
    }
  ],
  "metadata": {
    "colab": {
      "provenance": []
    },
    "kernelspec": {
      "display_name": "Python 3",
      "name": "python3"
    },
    "language_info": {
      "name": "python"
    }
  },
  "nbformat": 4,
  "nbformat_minor": 0
}